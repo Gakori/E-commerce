{
  "nbformat": 4,
  "nbformat_minor": 0,
  "metadata": {
    "colab": {
      "name": "Advertisment Analysis",
      "provenance": [],
      "toc_visible": true,
      "authorship_tag": "ABX9TyPjytk2Y4UHOjO/9KIoG4iR",
      "include_colab_link": true
    },
    "kernelspec": {
      "name": "python3",
      "display_name": "Python 3"
    }
  },
  "cells": [
    {
      "cell_type": "markdown",
      "metadata": {
        "id": "view-in-github",
        "colab_type": "text"
      },
      "source": [
        "<a href=\"https://colab.research.google.com/github/Gakori/E-commerce/blob/master/Advertisment_Analysis.ipynb\" target=\"_parent\"><img src=\"https://colab.research.google.com/assets/colab-badge.svg\" alt=\"Open In Colab\"/></a>"
      ]
    },
    {
      "cell_type": "markdown",
      "metadata": {
        "id": "O0xL5Pui3S9Q",
        "colab_type": "text"
      },
      "source": [
        "# **RESEARCH QUESTION**\n",
        "A Kenyan entrepreneur has created an online cryptography course and would want to advertise it on her blog. She currently targets audiences originating from various countries. In the past, she ran ads to advertise a related course on the same blog and collected data in the process. She would now like to employ your services as a Data Science Consultant to help her identify which individuals are most likely to click on her ads. \n",
        "\n",
        "From the question derive the problem statement and the solution.\n",
        "\n",
        "# **Problem statement**\n",
        "\n",
        "An entrepreneur with an online cryptography would like to advertise her blog. She target audiences from different countries and would like to determine who are more likely to click on her adverts.\n",
        "\n",
        "# **Solution**\n",
        "\n",
        "As a data scientist, I will consider all the variables the entrepreneur collected and will be used to identify the target audience."
      ]
    },
    {
      "cell_type": "markdown",
      "metadata": {
        "id": "e9QOIZa53WXi",
        "colab_type": "text"
      },
      "source": [
        "# **METRIC FOR SUCCESS**\n",
        "\n",
        "Perform comprehensive data cleaning on the data. Draw important insights from univariate and bivariate analysis by performing measures of central tendency and graphical presentation.\n",
        "\n",
        "\n",
        "# **UNDERSTANDING THE CONTEXT**\n",
        "\n",
        "An entrepreneur has collected data to determine her target audience. \n",
        "\n",
        "# **EXPERIMENTAL DESIGN**\n",
        "\n",
        "Load the R library and import the data.\n",
        "\n",
        "Clean the data.\n",
        "\n",
        "Perform univariate and multivariate analysis.\n",
        "\n",
        "Conclusions and recommendations."
      ]
    },
    {
      "cell_type": "markdown",
      "metadata": {
        "id": "Z_19SVy33ZpT",
        "colab_type": "text"
      },
      "source": [
        "# **Load the data**\n"
      ]
    },
    {
      "cell_type": "code",
      "metadata": {
        "id": "y9vEr5x9y_PN",
        "colab_type": "code",
        "colab": {
          "base_uri": "https://localhost:8080/",
          "height": 51
        },
        "outputId": "28fa13f2-9796-49e4-d02c-2cef50023737"
      },
      "source": [
        "# load r extension\n",
        "%load_ext rpy2.ipython"
      ],
      "execution_count": null,
      "outputs": [
        {
          "output_type": "stream",
          "text": [
            "The rpy2.ipython extension is already loaded. To reload it, use:\n",
            "  %reload_ext rpy2.ipython\n"
          ],
          "name": "stdout"
        }
      ]
    },
    {
      "cell_type": "code",
      "metadata": {
        "id": "9SgTQDvWytgK",
        "colab_type": "code",
        "colab": {
          "base_uri": "https://localhost:8080/",
          "height": 374
        },
        "outputId": "aa0568ba-69ae-4179-d81c-26947cd10f3d"
      },
      "source": [
        "# import csv file\n",
        "\n",
        "%%R\n",
        "advert <- read.csv('advertising.csv', TRUE, ',')\n",
        "head(advert)"
      ],
      "execution_count": null,
      "outputs": [
        {
          "output_type": "stream",
          "text": [
            "  Daily.Time.Spent.on.Site Age Area.Income Daily.Internet.Usage\n",
            "1                    68.95  35    61833.90               256.09\n",
            "2                    80.23  31    68441.85               193.77\n",
            "3                    69.47  26    59785.94               236.50\n",
            "4                    74.15  29    54806.18               245.89\n",
            "5                    68.37  35    73889.99               225.58\n",
            "6                    59.99  23    59761.56               226.74\n",
            "                          Ad.Topic.Line           City Male    Country\n",
            "1    Cloned 5thgeneration orchestration    Wrightburgh    0    Tunisia\n",
            "2    Monitored national standardization      West Jodi    1      Nauru\n",
            "3      Organic bottom-line service-desk       Davidton    0 San Marino\n",
            "4 Triple-buffered reciprocal time-frame West Terrifurt    1      Italy\n",
            "5         Robust logistical utilization   South Manuel    0    Iceland\n",
            "6       Sharable client-driven software      Jamieberg    1     Norway\n",
            "            Timestamp Clicked.on.Ad\n",
            "1 2016-03-27 00:53:11             0\n",
            "2 2016-04-04 01:39:02             0\n",
            "3 2016-03-13 20:35:42             0\n",
            "4 2016-01-10 02:31:19             0\n",
            "5 2016-06-03 03:36:18             0\n",
            "6 2016-05-19 14:30:17             0\n"
          ],
          "name": "stdout"
        }
      ]
    },
    {
      "cell_type": "code",
      "metadata": {
        "id": "21MvLACazNEy",
        "colab_type": "code",
        "colab": {
          "base_uri": "https://localhost:8080/",
          "height": 34
        },
        "outputId": "f5d43c5c-e447-437b-9fce-76a784ff4a3d"
      },
      "source": [
        "# class of the imported csv\n",
        "\n",
        "%%R\n",
        "class(advert)"
      ],
      "execution_count": null,
      "outputs": [
        {
          "output_type": "stream",
          "text": [
            "[1] \"data.frame\"\n"
          ],
          "name": "stdout"
        }
      ]
    },
    {
      "cell_type": "code",
      "metadata": {
        "id": "bFJETSGLzP52",
        "colab_type": "code",
        "colab": {
          "base_uri": "https://localhost:8080/",
          "height": 34
        },
        "outputId": "8826e6ef-4235-428f-daf5-f355c24776ef"
      },
      "source": [
        "## Review structure of the dataframe\n",
        "\n",
        "%%R\n",
        "dim(advert)"
      ],
      "execution_count": null,
      "outputs": [
        {
          "output_type": "stream",
          "text": [
            "[1] 1000   10\n"
          ],
          "name": "stdout"
        }
      ]
    },
    {
      "cell_type": "markdown",
      "metadata": {
        "id": "vG6Zw2Jz30qO",
        "colab_type": "text"
      },
      "source": [
        "*The data frame contains 1000 rows and 10 columns*\n"
      ]
    },
    {
      "cell_type": "code",
      "metadata": {
        "id": "gXhi4ZVszR7e",
        "colab_type": "code",
        "colab": {
          "base_uri": "https://localhost:8080/",
          "height": 224
        },
        "outputId": "910f05b2-67e9-40bf-b414-0c5a72aa46aa"
      },
      "source": [
        "## Review datatypes\n",
        "\n",
        "%%R\n",
        "str(advert)"
      ],
      "execution_count": null,
      "outputs": [
        {
          "output_type": "stream",
          "text": [
            "'data.frame':\t1000 obs. of  10 variables:\n",
            " $ Daily.Time.Spent.on.Site: num  69 80.2 69.5 74.2 68.4 ...\n",
            " $ Age                     : int  35 31 26 29 35 23 33 48 30 20 ...\n",
            " $ Area.Income             : num  61834 68442 59786 54806 73890 ...\n",
            " $ Daily.Internet.Usage    : num  256 194 236 246 226 ...\n",
            " $ Ad.Topic.Line           : Factor w/ 1000 levels \"Adaptive 24hour Graphic Interface\",..: 92 465 567 904 767 806 223 724 108 455 ...\n",
            " $ City                    : Factor w/ 969 levels \"Adamsbury\",\"Adamside\",..: 962 904 112 940 806 283 47 672 885 713 ...\n",
            " $ Male                    : int  0 1 0 1 0 1 0 1 1 1 ...\n",
            " $ Country                 : Factor w/ 237 levels \"Afghanistan\",..: 216 148 185 104 97 159 146 13 83 79 ...\n",
            " $ Timestamp               : Factor w/ 1000 levels \"2016-01-01 02:52:10\",..: 440 475 368 57 768 690 131 334 549 942 ...\n",
            " $ Clicked.on.Ad           : int  0 0 0 0 0 0 0 1 0 0 ...\n"
          ],
          "name": "stdout"
        }
      ]
    },
    {
      "cell_type": "markdown",
      "metadata": {
        "id": "os_s5B0v36PZ",
        "colab_type": "text"
      },
      "source": [
        "*Daily time spent, area income, internet usage are all numerical. Age, male,clicked on ad are integers. Topic line,city,country,time stamp are all factors.*"
      ]
    },
    {
      "cell_type": "code",
      "metadata": {
        "id": "Dlrz1v6PzSbg",
        "colab_type": "code",
        "colab": {
          "base_uri": "https://localhost:8080/",
          "height": 425
        },
        "outputId": "b18bd29d-5d6d-4ec3-a2de-3a3c14de0fdd"
      },
      "source": [
        "# Statistical summary\n",
        "\n",
        "%%R\n",
        "summary(advert)"
      ],
      "execution_count": null,
      "outputs": [
        {
          "output_type": "stream",
          "text": [
            " Daily.Time.Spent.on.Site      Age         Area.Income    Daily.Internet.Usage\n",
            " Min.   :32.60            Min.   :19.00   Min.   :13996   Min.   :104.8       \n",
            " 1st Qu.:51.36            1st Qu.:29.00   1st Qu.:47032   1st Qu.:138.8       \n",
            " Median :68.22            Median :35.00   Median :57012   Median :183.1       \n",
            " Mean   :65.00            Mean   :36.01   Mean   :55000   Mean   :180.0       \n",
            " 3rd Qu.:78.55            3rd Qu.:42.00   3rd Qu.:65471   3rd Qu.:218.8       \n",
            " Max.   :91.43            Max.   :61.00   Max.   :79485   Max.   :270.0       \n",
            "                                                                              \n",
            "                                 Ad.Topic.Line              City    \n",
            " Adaptive 24hour Graphic Interface      :  1   Lisamouth      :  3  \n",
            " Adaptive asynchronous attitude         :  1   Williamsport   :  3  \n",
            " Adaptive context-sensitive application :  1   Benjaminchester:  2  \n",
            " Adaptive contextually-based methodology:  1   East John      :  2  \n",
            " Adaptive demand-driven knowledgebase   :  1   East Timothy   :  2  \n",
            " Adaptive uniform capability            :  1   Johnstad       :  2  \n",
            " (Other)                                :994   (Other)        :986  \n",
            "      Male                 Country                  Timestamp   Clicked.on.Ad\n",
            " Min.   :0.000   Czech Republic:  9   2016-01-01 02:52:10:  1   Min.   :0.0  \n",
            " 1st Qu.:0.000   France        :  9   2016-01-01 03:35:35:  1   1st Qu.:0.0  \n",
            " Median :0.000   Afghanistan   :  8   2016-01-01 05:31:22:  1   Median :0.5  \n",
            " Mean   :0.481   Australia     :  8   2016-01-01 08:27:06:  1   Mean   :0.5  \n",
            " 3rd Qu.:1.000   Cyprus        :  8   2016-01-01 15:14:24:  1   3rd Qu.:1.0  \n",
            " Max.   :1.000   Greece        :  8   2016-01-01 20:17:49:  1   Max.   :1.0  \n",
            "                 (Other)       :950   (Other)            :994                \n"
          ],
          "name": "stdout"
        }
      ]
    },
    {
      "cell_type": "markdown",
      "metadata": {
        "id": "SFixI1Hu4AT8",
        "colab_type": "text"
      },
      "source": [
        "*Displays the statistical summary of the variables. The maximum daily time spent on a site is 91 minutes and 43 seconds. Most people who visit the site are mainly of age 36 having 19 years as minimum and 61 years as the maximum age.*"
      ]
    },
    {
      "cell_type": "markdown",
      "metadata": {
        "id": "Hoh5w1ey4Dvt",
        "colab_type": "text"
      },
      "source": [
        "# **MISSING VALUES AND OUTLIERS**"
      ]
    },
    {
      "cell_type": "code",
      "metadata": {
        "id": "57cetFe9zSjG",
        "colab_type": "code",
        "colab": {
          "base_uri": "https://localhost:8080/",
          "height": 153
        },
        "outputId": "65710e3d-cb7f-480b-c8fe-2147043f175d"
      },
      "source": [
        "# Checking for missing values in the columns\n",
        "\n",
        "%%R\n",
        "colSums(is.na(advert))"
      ],
      "execution_count": null,
      "outputs": [
        {
          "output_type": "stream",
          "text": [
            "Daily.Time.Spent.on.Site                      Age              Area.Income \n",
            "                       0                        0                        0 \n",
            "    Daily.Internet.Usage            Ad.Topic.Line                     City \n",
            "                       0                        0                        0 \n",
            "                    Male                  Country                Timestamp \n",
            "                       0                        0                        0 \n",
            "           Clicked.on.Ad \n",
            "                       0 \n"
          ],
          "name": "stdout"
        }
      ]
    },
    {
      "cell_type": "markdown",
      "metadata": {
        "id": "gb5bB6CR4Noa",
        "colab_type": "text"
      },
      "source": [
        "*There are no missing values in the data*"
      ]
    },
    {
      "cell_type": "code",
      "metadata": {
        "id": "CZomsQu2zSpW",
        "colab_type": "code",
        "colab": {
          "base_uri": "https://localhost:8080/",
          "height": 34
        },
        "outputId": "4b182ccb-96ab-4e8f-87cf-4f40a6f00414"
      },
      "source": [
        "# Checking duplicates\n",
        "\n",
        "%%R\n",
        "anyDuplicated(advert)"
      ],
      "execution_count": null,
      "outputs": [
        {
          "output_type": "stream",
          "text": [
            "[1] 0\n"
          ],
          "name": "stdout"
        }
      ]
    },
    {
      "cell_type": "markdown",
      "metadata": {
        "id": "vCaEDUoA4Xhq",
        "colab_type": "text"
      },
      "source": [
        "*There are no duplicates*"
      ]
    },
    {
      "cell_type": "markdown",
      "metadata": {
        "id": "tFxfbcdc4a5e",
        "colab_type": "text"
      },
      "source": [
        "## Checking for outliers using box plots.stats\n"
      ]
    },
    {
      "cell_type": "code",
      "metadata": {
        "id": "2lLsreuczS0g",
        "colab_type": "code",
        "colab": {
          "base_uri": "https://localhost:8080/",
          "height": 497
        },
        "outputId": "5907734f-cfec-43d3-f250-380c80121980"
      },
      "source": [
        "# daily time spent on site\n",
        "\n",
        "%%R\n",
        "time_site <- boxplot.stats(advert$Daily.Time.Spent.on.Site)$out\n",
        "time_site\n",
        "\n",
        "boxplot(advert$Daily.Time.Spent.on.Site, main=\"Daily time spent on site\", boxwex=0.1)"
      ],
      "execution_count": null,
      "outputs": [
        {
          "output_type": "display_data",
          "data": {
            "image/png": "[encoded data removed]"
          },
          "metadata": {
            "tags": []
          }
        }
      ]
    },
    {
      "cell_type": "markdown",
      "metadata": {
        "id": "YhOkck-yA7oM",
        "colab_type": "text"
      },
      "source": [
        "*no outliers in time spent on site*"
      ]
    },
    {
      "cell_type": "code",
      "metadata": {
        "id": "eOcFJMGSzSvi",
        "colab_type": "code",
        "colab": {
          "base_uri": "https://localhost:8080/",
          "height": 34
        },
        "outputId": "e038982f-e0d7-4787-ddcc-860dd498c5f9"
      },
      "source": [
        "# age\n",
        "\n",
        "%%R\n",
        "age <- boxplot.stats(advert$Daily.Time.Spent.on.Site)$out\n",
        "age"
      ],
      "execution_count": null,
      "outputs": [
        {
          "output_type": "stream",
          "text": [
            "numeric(0)\n"
          ],
          "name": "stdout"
        }
      ]
    },
    {
      "cell_type": "markdown",
      "metadata": {
        "id": "LfFzhgXbBBG3",
        "colab_type": "text"
      },
      "source": [
        "*no outliers in the age column*"
      ]
    },
    {
      "cell_type": "code",
      "metadata": {
        "id": "P_OVMcDMzSuw",
        "colab_type": "code",
        "colab": {
          "base_uri": "https://localhost:8080/",
          "height": 497
        },
        "outputId": "bbe62514-4979-4830-bb30-3de47cbb6acd"
      },
      "source": [
        "# income\n",
        "\n",
        "%%R\n",
        "areaincome <- boxplot.stats(advert$Area.Income)$out\n",
        "areaincome\n",
        "\n",
        "boxplot(advert$Area.Income, main=\"Area Income\", boxwex=0.1)"
      ],
      "execution_count": null,
      "outputs": [
        {
          "output_type": "display_data",
          "data": {
            "image/png": "[encoded data removed]"
          },
          "metadata": {
            "tags": []
          }
        }
      ]
    },
    {
      "cell_type": "markdown",
      "metadata": {
        "id": "J6Qws9YGBFqR",
        "colab_type": "text"
      },
      "source": [
        "*the area.income contains outliers < 20000*"
      ]
    },
    {
      "cell_type": "code",
      "metadata": {
        "id": "rRQZXJojzSnY",
        "colab_type": "code",
        "colab": {
          "base_uri": "https://localhost:8080/",
          "height": 34
        },
        "outputId": "1c137f7f-38e1-43fa-f45e-26938828ab6c"
      },
      "source": [
        "# internet usage\n",
        "\n",
        "%%R\n",
        "net_usage <- boxplot.stats(advert$Daily.Internet.Usage)$out\n",
        "net_usage"
      ],
      "execution_count": null,
      "outputs": [
        {
          "output_type": "stream",
          "text": [
            "numeric(0)\n"
          ],
          "name": "stdout"
        }
      ]
    },
    {
      "cell_type": "markdown",
      "metadata": {
        "id": "Zi5fdxMoBPlV",
        "colab_type": "text"
      },
      "source": [
        "*no outliers in internet usage column*"
      ]
    },
    {
      "cell_type": "markdown",
      "metadata": {
        "id": "ls9CJLANBbED",
        "colab_type": "text"
      },
      "source": [
        "# **UNIVARIATE ANALYSIS**"
      ]
    },
    {
      "cell_type": "markdown",
      "metadata": {
        "id": "RRS6OwaX4zEw",
        "colab_type": "text"
      },
      "source": [
        "## MEAN"
      ]
    },
    {
      "cell_type": "code",
      "metadata": {
        "id": "bM9p3CkzzSgO",
        "colab_type": "code",
        "colab": {
          "base_uri": "https://localhost:8080/",
          "height": 102
        },
        "outputId": "ad52c0e0-9fcd-4a3a-8ecd-86cb572057d4"
      },
      "source": [
        "%%R\n",
        "print(mean(advert$Clicked.on.Ad))\n",
        "print(mean(advert$Daily.Time.Spent.on.Site))\n",
        "print(mean(advert$Age))\n",
        "print(mean(advert$Area.Income))\n",
        "print(mean(advert$Daily.Internet.Usage))"
      ],
      "execution_count": null,
      "outputs": [
        {
          "output_type": "stream",
          "text": [
            "[1] 0.5\n",
            "[1] 65.0002\n",
            "[1] 36.009\n",
            "[1] 55000\n",
            "[1] 180.0001\n"
          ],
          "name": "stdout"
        }
      ]
    },
    {
      "cell_type": "markdown",
      "metadata": {
        "id": "L5o_DcOT5Lep",
        "colab_type": "text"
      },
      "source": [
        "The average time spent on a site is 65 minutes.\n",
        "\n",
        "Most of the people who visit the site are of age 35 years.\n",
        "\n",
        "The average area income is 55K.\n",
        "\n",
        "The average internet usage is 180."
      ]
    },
    {
      "cell_type": "markdown",
      "metadata": {
        "id": "63HDvQVo436s",
        "colab_type": "text"
      },
      "source": [
        "## MEDIAN\n",
        "\n",
        "*It is the middle most value.*"
      ]
    },
    {
      "cell_type": "code",
      "metadata": {
        "id": "e3mCQ_fGzSZO",
        "colab_type": "code",
        "colab": {
          "base_uri": "https://localhost:8080/",
          "height": 102
        },
        "outputId": "c9a28c10-5382-4ad2-fce6-77d9b1032b80"
      },
      "source": [
        "%%R\n",
        "print(median(advert$Clicked.on.Ad))\n",
        "print(median(advert$Daily.Time.Spent.on.Site))\n",
        "print(median(advert$Age))\n",
        "print(median(advert$Area.Income))\n",
        "print(median(advert$Daily.Internet.Usage))"
      ],
      "execution_count": null,
      "outputs": [
        {
          "output_type": "stream",
          "text": [
            "[1] 0.5\n",
            "[1] 68.215\n",
            "[1] 35\n",
            "[1] 57012.3\n",
            "[1] 183.13\n"
          ],
          "name": "stdout"
        }
      ]
    },
    {
      "cell_type": "markdown",
      "metadata": {
        "id": "En6_LhFtByZd",
        "colab_type": "text"
      },
      "source": [
        "The median of time spent on a site is 68 minutes.\n",
        "\n",
        "Median age of most of the people who visit the site is age 35 years.\n",
        "\n",
        "The median income is 57012.3.\n",
        "\n",
        "The median average internet usage is 183.3"
      ]
    },
    {
      "cell_type": "markdown",
      "metadata": {
        "id": "5fhFeY9-5mFr",
        "colab_type": "text"
      },
      "source": [
        "## MODE\n",
        "\n",
        "The mode is the value that has highest number of occurrences in a set of data. Created using a function as it does not have a builtin function."
      ]
    },
    {
      "cell_type": "code",
      "metadata": {
        "id": "jMaWP8EVzR52",
        "colab_type": "code",
        "colab": {
          "base_uri": "https://localhost:8080/",
          "height": 51
        },
        "outputId": "b85aa349-6df4-4911-e57e-bf60f5dc9316"
      },
      "source": [
        "# timestamp mode\n",
        "\n",
        "%%R\n",
        "getmode <- function(v) {\n",
        "   uniqv <- unique(advert$Timestamp)\n",
        "   uniqv[which.max(tabulate(match(advert$Timestamp, uniqv)))]\n",
        "}\n",
        "\n",
        "result <- getmode(v)\n",
        "print(result)"
      ],
      "execution_count": null,
      "outputs": [
        {
          "output_type": "stream",
          "text": [
            "[1] 2016-03-27 00:53:11\n",
            "1000 Levels: 2016-01-01 02:52:10 2016-01-01 03:35:35 ... 2016-07-24 00:22:16\n"
          ],
          "name": "stdout"
        }
      ]
    },
    {
      "cell_type": "markdown",
      "metadata": {
        "id": "h6v8V0TvCUs_",
        "colab_type": "text"
      },
      "source": [
        "*The most occuring datetimw is 2016-03-27 00:53:11*"
      ]
    },
    {
      "cell_type": "code",
      "metadata": {
        "id": "KU3EGKw4zyLg",
        "colab_type": "code",
        "colab": {
          "base_uri": "https://localhost:8080/",
          "height": 51
        },
        "outputId": "dd12bea2-9b73-406d-bd15-2ea59c805cfa"
      },
      "source": [
        "# topic line mode\n",
        "\n",
        "%%R\n",
        "getmode <- function(v) {\n",
        "   uniqv <- unique(advert$Ad.Topic.Line)\n",
        "   uniqv[which.max(tabulate(match(advert$Ad.Topic.Line, uniqv)))]\n",
        "}\n",
        "\n",
        "result <- getmode(v)\n",
        "print(result)"
      ],
      "execution_count": null,
      "outputs": [
        {
          "output_type": "stream",
          "text": [
            "[1] Cloned 5thgeneration orchestration\n",
            "1000 Levels: Adaptive 24hour Graphic Interface ... Visionary reciprocal circuit\n"
          ],
          "name": "stdout"
        }
      ]
    },
    {
      "cell_type": "markdown",
      "metadata": {
        "id": "m8AKxX2n5rFP",
        "colab_type": "text"
      },
      "source": [
        "*The topic 'Cloned 5thgeneration orchestration' occurred multiple times.*"
      ]
    },
    {
      "cell_type": "code",
      "metadata": {
        "id": "U3zZRyhwzyQ3",
        "colab_type": "code",
        "colab": {
          "base_uri": "https://localhost:8080/",
          "height": 51
        },
        "outputId": "08eae0d7-40e0-4c8e-8c3c-ab670ed2b7fa"
      },
      "source": [
        "# city mode\n",
        "\n",
        "%%R\n",
        "getmode <- function(v) {\n",
        "   uniqv <- unique(advert$City)\n",
        "   uniqv[which.max(tabulate(match(advert$City.Line, uniqv)))]\n",
        "}\n",
        "\n",
        "result <- getmode(v)\n",
        "print(result)"
      ],
      "execution_count": null,
      "outputs": [
        {
          "output_type": "stream",
          "text": [
            "[1] Wrightburgh\n",
            "969 Levels: Adamsbury Adamside Adamsstad Alanview ... Zacharyton\n"
          ],
          "name": "stdout"
        }
      ]
    },
    {
      "cell_type": "markdown",
      "metadata": {
        "id": "zIEyy0tI5vOI",
        "colab_type": "text"
      },
      "source": [
        "*Wrightburgh city occured most times in the data.*"
      ]
    },
    {
      "cell_type": "markdown",
      "metadata": {
        "id": "z8qoSGhV5wwC",
        "colab_type": "text"
      },
      "source": [
        "### Range\n",
        "\n",
        "Range is a function that produces the smallest and largest values."
      ]
    },
    {
      "cell_type": "code",
      "metadata": {
        "id": "zvQ5pQcBzyWV",
        "colab_type": "code",
        "colab": {
          "base_uri": "https://localhost:8080/",
          "height": 119
        },
        "outputId": "50c0e4c2-5048-46d4-d83d-8b1a28ded968"
      },
      "source": [
        "# of numerical variable\n",
        "\n",
        "%%R\n",
        "print(range(advert$Age))\n",
        "print(range(advert$Clicked.on.Ad))\n",
        "print(range(advert$Daily.Time.Spent.on.Site))\n",
        "print(range(advert$Age))\n",
        "print(range(advert$Area.Income))\n",
        "print(range(advert$Daily.Internet.Usage))"
      ],
      "execution_count": null,
      "outputs": [
        {
          "output_type": "stream",
          "text": [
            "[1] 19 61\n",
            "[1] 0 1\n",
            "[1] 32.60 91.43\n",
            "[1] 19 61\n",
            "[1] 13996.5 79484.8\n",
            "[1] 104.78 269.96\n"
          ],
          "name": "stdout"
        }
      ]
    },
    {
      "cell_type": "markdown",
      "metadata": {
        "id": "PkDmznHB50sy",
        "colab_type": "text"
      },
      "source": [
        "\n",
        "### MAXIMUM"
      ]
    },
    {
      "cell_type": "code",
      "metadata": {
        "id": "C5PJcFg3zycW",
        "colab_type": "code",
        "colab": {
          "base_uri": "https://localhost:8080/",
          "height": 85
        },
        "outputId": "79134e13-fdf7-4ffe-fd56-a7a325432366"
      },
      "source": [
        "%%R\n",
        "\n",
        "print(max(advert$Age))\n",
        "print(max(advert$Daily.Time.Spent.on.Site))\n",
        "print(max(advert$Area.Income))\n",
        "print(max(advert$Daily.Internet.Usage))"
      ],
      "execution_count": null,
      "outputs": [
        {
          "output_type": "stream",
          "text": [
            "[1] 61\n",
            "[1] 91.43\n",
            "[1] 79484.8\n",
            "[1] 269.96\n"
          ],
          "name": "stdout"
        }
      ]
    },
    {
      "cell_type": "markdown",
      "metadata": {
        "id": "ZtNnpjpy5-Lp",
        "colab_type": "text"
      },
      "source": [
        "The maximum age of a person who watched the advertisment was 61 years.\n",
        "\n",
        "The maximum time spent on the advertisment is 91 minutes 43 seconds.\n",
        "\n",
        "The maximum income is 79484.8\n",
        "\n",
        "The maximum internet usage on the advert is 269.96"
      ]
    },
    {
      "cell_type": "markdown",
      "metadata": {
        "id": "DNLbs2c053kc",
        "colab_type": "text"
      },
      "source": [
        "\n",
        "### MINIMUM"
      ]
    },
    {
      "cell_type": "code",
      "metadata": {
        "id": "rL_1GSfkzyT2",
        "colab_type": "code",
        "colab": {
          "base_uri": "https://localhost:8080/",
          "height": 85
        },
        "outputId": "65e66b4a-eeb9-4353-8ce2-171b4d3d870c"
      },
      "source": [
        "%%R\n",
        "print(min(advert$Age))\n",
        "print(min(advert$Daily.Time.Spent.on.Site))\n",
        "print(min(advert$Area.Income))\n",
        "print(min(advert$Daily.Internet.Usage))"
      ],
      "execution_count": null,
      "outputs": [
        {
          "output_type": "stream",
          "text": [
            "[1] 19\n",
            "[1] 32.6\n",
            "[1] 13996.5\n",
            "[1] 104.78\n"
          ],
          "name": "stdout"
        }
      ]
    },
    {
      "cell_type": "markdown",
      "metadata": {
        "id": "aMkSwzzS58xM",
        "colab_type": "text"
      },
      "source": [
        "The minimum age of a person who visited the site is 19 years.\n",
        "\n",
        "The minimum time spent on the site is 32min 6secs.\n",
        "\n",
        "The minimum income earned is 13996.5\n",
        "\n",
        "The minimum internet used is 104.78."
      ]
    },
    {
      "cell_type": "markdown",
      "metadata": {
        "id": "nSuF-_ru6Bwc",
        "colab_type": "text"
      },
      "source": [
        "### VARIANCE \n",
        "\n",
        "Is a numerical measure of how the data values is dispersed around the mean."
      ]
    },
    {
      "cell_type": "code",
      "metadata": {
        "id": "r223-azQzyPH",
        "colab_type": "code",
        "colab": {
          "base_uri": "https://localhost:8080/",
          "height": 85
        },
        "outputId": "1c514051-79c9-4b6e-d0c8-f09bc5f9e0de"
      },
      "source": [
        "%%R\n",
        "print(var(advert$Age))\n",
        "print(var(advert$Daily.Time.Spent.on.Site))\n",
        "print(var(advert$Area.Income))\n",
        "print(var(advert$Daily.Internet.Usage))"
      ],
      "execution_count": null,
      "outputs": [
        {
          "output_type": "stream",
          "text": [
            "[1] 77.18611\n",
            "[1] 251.3371\n",
            "[1] 179952406\n",
            "[1] 1927.415\n"
          ],
          "name": "stdout"
        }
      ]
    },
    {
      "cell_type": "markdown",
      "metadata": {
        "id": "5RKrDXV96Fsh",
        "colab_type": "text"
      },
      "source": [
        "### STANDARD DEVIATION"
      ]
    },
    {
      "cell_type": "code",
      "metadata": {
        "id": "dX4pwnmdzyJy",
        "colab_type": "code",
        "colab": {
          "base_uri": "https://localhost:8080/",
          "height": 85
        },
        "outputId": "0593503b-c07b-49b3-e525-246bf62cdd40"
      },
      "source": [
        "%%R\n",
        "print(sd(advert$Age))\n",
        "print(sd(advert$Daily.Time.Spent.on.Site))\n",
        "print(sd(advert$Area.Income))\n",
        "print(sd(advert$Daily.Internet.Usage))"
      ],
      "execution_count": null,
      "outputs": [
        {
          "output_type": "stream",
          "text": [
            "[1] 8.785562\n",
            "[1] 15.85361\n",
            "[1] 13414.63\n",
            "[1] 43.90234\n"
          ],
          "name": "stdout"
        }
      ]
    },
    {
      "cell_type": "markdown",
      "metadata": {
        "id": "94J0jFa06KwS",
        "colab_type": "text"
      },
      "source": [
        "### INTERQUARTILE RANGE"
      ]
    },
    {
      "cell_type": "code",
      "metadata": {
        "id": "Ieo6cNMZ0FSH",
        "colab_type": "code",
        "colab": {
          "base_uri": "https://localhost:8080/",
          "height": 85
        },
        "outputId": "c44f0b78-8e25-4327-d063-1d7a1a4e8282"
      },
      "source": [
        "%%R\n",
        "print(IQR(advert$Age))\n",
        "print(IQR(advert$Daily.Time.Spent.on.Site))\n",
        "print(IQR(advert$Area.Income))\n",
        "print(IQR(advert$Daily.Internet.Usage))"
      ],
      "execution_count": null,
      "outputs": [
        {
          "output_type": "stream",
          "text": [
            "[1] 13\n",
            "[1] 27.1875\n",
            "[1] 18438.83\n",
            "[1] 79.9625\n"
          ],
          "name": "stdout"
        }
      ]
    },
    {
      "cell_type": "markdown",
      "metadata": {
        "id": "Xui6hEei6PTH",
        "colab_type": "text"
      },
      "source": [
        "### COUNT PLOTS\n",
        "\n"
      ]
    },
    {
      "cell_type": "code",
      "metadata": {
        "id": "B4vCVRU90FbS",
        "colab_type": "code",
        "colab": {
          "base_uri": "https://localhost:8080/",
          "height": 374
        },
        "outputId": "07911d95-43f6-4ada-b454-3089c6beec57"
      },
      "source": [
        "# Determine which gender mainly visited the sites\n",
        "\n",
        "%%R\n",
        "library(dplyr)\n",
        "df <- advert %>%\n",
        "  group_by(Male) %>%\n",
        "  summarise(counts = n())\n",
        "df"
      ],
      "execution_count": null,
      "outputs": [
        {
          "output_type": "stream",
          "text": [
            "R[write to console]: \n",
            "Attaching package: ‘dplyr’\n",
            "\n",
            "\n",
            "R[write to console]: The following objects are masked from ‘package:stats’:\n",
            "\n",
            "    filter, lag\n",
            "\n",
            "\n",
            "R[write to console]: The following objects are masked from ‘package:base’:\n",
            "\n",
            "    intersect, setdiff, setequal, union\n",
            "\n",
            "\n",
            "R[write to console]: `summarise()` ungrouping output (override with `.groups` argument)\n",
            "\n"
          ],
          "name": "stderr"
        },
        {
          "output_type": "stream",
          "text": [
            "# A tibble: 2 x 2\n",
            "   Male counts\n",
            "  <int>  <int>\n",
            "1     0    519\n",
            "2     1    481\n"
          ],
          "name": "stdout"
        }
      ]
    },
    {
      "cell_type": "code",
      "metadata": {
        "id": "EQfC2AbG0FgU",
        "colab_type": "code",
        "colab": {
          "base_uri": "https://localhost:8080/",
          "height": 497
        },
        "outputId": "333cf8bc-124b-4e3d-b3ab-e6c8e1e5b838"
      },
      "source": [
        "#gender plot\n",
        "%%R\n",
        "\n",
        "library('ggplot2')\n",
        "ggplot(df, aes(x = Male, y = counts)) +\n",
        "  geom_bar(fill = \"#0073C2FF\", stat = \"identity\") +\n",
        "  geom_text(aes(label = counts), vjust = -0.3)"
      ],
      "execution_count": null,
      "outputs": [
        {
          "output_type": "display_data",
          "data": {
            "image/png": "[encoded data removed]"
          },
          "metadata": {
            "tags": []
          }
        }
      ]
    },
    {
      "cell_type": "markdown",
      "metadata": {
        "id": "kMxFfT_i6VQM",
        "colab_type": "text"
      },
      "source": [
        "0 - Female\n",
        "1 - Male\n",
        "\n",
        "High numbers of females who visited the site compared to males"
      ]
    },
    {
      "cell_type": "code",
      "metadata": {
        "id": "fMj2_sxK0FYD",
        "colab_type": "code",
        "colab": {
          "base_uri": "https://localhost:8080/",
          "height": 289
        },
        "outputId": "283c5438-5478-435a-9fe3-0485000fb0a7"
      },
      "source": [
        "#Country\n",
        "\n",
        "%%R\n",
        "\n",
        "cntry <- advert %>%\n",
        "  group_by(Country) %>%\n",
        "  summarise(counts = n())\n",
        "cntry"
      ],
      "execution_count": null,
      "outputs": [
        {
          "output_type": "stream",
          "text": [
            "R[write to console]: `summarise()` ungrouping output (override with `.groups` argument)\n",
            "\n"
          ],
          "name": "stderr"
        },
        {
          "output_type": "stream",
          "text": [
            "# A tibble: 237 x 2\n",
            "   Country                                      counts\n",
            "   <fct>                                         <int>\n",
            " 1 Afghanistan                                       8\n",
            " 2 Albania                                           7\n",
            " 3 Algeria                                           6\n",
            " 4 American Samoa                                    5\n",
            " 5 Andorra                                           2\n",
            " 6 Angola                                            4\n",
            " 7 Anguilla                                          6\n",
            " 8 Antarctica (the territory South of 60 deg S)      3\n",
            " 9 Antigua and Barbuda                               5\n",
            "10 Argentina                                         2\n",
            "# … with 227 more rows\n"
          ],
          "name": "stdout"
        }
      ]
    },
    {
      "cell_type": "markdown",
      "metadata": {
        "id": "HiM7DgsV6atI",
        "colab_type": "text"
      },
      "source": [
        "Afghanistan had more people who visted the site."
      ]
    },
    {
      "cell_type": "code",
      "metadata": {
        "id": "MhNAykDw0FWk",
        "colab_type": "code",
        "colab": {
          "base_uri": "https://localhost:8080/",
          "height": 289
        },
        "outputId": "b750fa9d-ff45-4dd1-9d8d-1421ab848444"
      },
      "source": [
        "# city\n",
        "%%R\n",
        "city <- advert %>%\n",
        "  group_by(City) %>%\n",
        "  summarise(counts = n())\n",
        "city"
      ],
      "execution_count": null,
      "outputs": [
        {
          "output_type": "stream",
          "text": [
            "R[write to console]: `summarise()` ungrouping output (override with `.groups` argument)\n",
            "\n"
          ],
          "name": "stderr"
        },
        {
          "output_type": "stream",
          "text": [
            "# A tibble: 969 x 2\n",
            "   City          counts\n",
            "   <fct>          <int>\n",
            " 1 Adamsbury          1\n",
            " 2 Adamside           1\n",
            " 3 Adamsstad          1\n",
            " 4 Alanview           1\n",
            " 5 Alexanderfurt      1\n",
            " 6 Alexanderview      1\n",
            " 7 Alexandrafort      1\n",
            " 8 Alexisland         1\n",
            " 9 Aliciatown         1\n",
            "10 Alvaradoport       1\n",
            "# … with 959 more rows\n"
          ],
          "name": "stdout"
        }
      ]
    },
    {
      "cell_type": "markdown",
      "metadata": {
        "id": "YQdS3rVz6hYN",
        "colab_type": "text"
      },
      "source": [
        "*people who visited the site were from different countries*"
      ]
    },
    {
      "cell_type": "code",
      "metadata": {
        "id": "PqYpvYId0FQV",
        "colab_type": "code",
        "colab": {
          "base_uri": "https://localhost:8080/",
          "height": 136
        },
        "outputId": "e35b82bf-4d8e-4e54-d4f0-5ed628356816"
      },
      "source": [
        "##### clicked on Ad\n",
        "\n",
        "%%R\n",
        "ad <- advert %>%\n",
        "  group_by(Clicked.on.Ad) %>%\n",
        "  summarise(counts = n())\n",
        "ad"
      ],
      "execution_count": null,
      "outputs": [
        {
          "output_type": "stream",
          "text": [
            "R[write to console]: `summarise()` ungrouping output (override with `.groups` argument)\n",
            "\n"
          ],
          "name": "stderr"
        },
        {
          "output_type": "stream",
          "text": [
            "# A tibble: 2 x 2\n",
            "  Clicked.on.Ad counts\n",
            "          <int>  <int>\n",
            "1             0    500\n",
            "2             1    500\n"
          ],
          "name": "stdout"
        }
      ]
    },
    {
      "cell_type": "code",
      "metadata": {
        "id": "GEKGJmXL0VvW",
        "colab_type": "code",
        "colab": {
          "base_uri": "https://localhost:8080/",
          "height": 497
        },
        "outputId": "a1edd7c3-51c9-4823-aa1e-924eb6fa1976"
      },
      "source": [
        "# click on ad plot\n",
        "%%R\n",
        "library('ggplot2')\n",
        "ggplot(ad, aes(x = Clicked.on.Ad, y = counts)) +\n",
        "  geom_bar(fill = \"Purple\", stat = \"identity\") +\n",
        "  geom_text(aes(label = counts), vjust = -0.3)"
      ],
      "execution_count": null,
      "outputs": [
        {
          "output_type": "display_data",
          "data": {
            "image/png": "[encoded data removed]"
          },
          "metadata": {
            "tags": []
          }
        }
      ]
    },
    {
      "cell_type": "markdown",
      "metadata": {
        "id": "hGmpCt1N6qLC",
        "colab_type": "text"
      },
      "source": [
        " 0 - did not click\n",
        " 1 - clicked\n",
        " \n",
        " There was an equal number of people who clicked and who did not click on the advertisment"
      ]
    },
    {
      "cell_type": "markdown",
      "metadata": {
        "id": "h575Oeol6sTf",
        "colab_type": "text"
      },
      "source": [
        "# **BIVARIATE ANALYSIS**"
      ]
    },
    {
      "cell_type": "code",
      "metadata": {
        "id": "CMIKdwq90V1b",
        "colab_type": "code",
        "colab": {
          "base_uri": "https://localhost:8080/",
          "height": 497
        },
        "outputId": "3ab9b25f-c437-49e0-be2e-97330838e0ad"
      },
      "source": [
        "### clicked on ad vs internet usage\n",
        "%%R\n",
        "\n",
        "ggplot(advert, aes(x=Clicked.on.Ad, y=Daily.Internet.Usage)) + \n",
        "  geom_bar(fill = 'Yellow' ,stat = \"identity\")"
      ],
      "execution_count": null,
      "outputs": [
        {
          "output_type": "display_data",
          "data": {
            "image/png": "[encoded data removed]"
          },
          "metadata": {
            "tags": []
          }
        }
      ]
    },
    {
      "cell_type": "markdown",
      "metadata": {
        "id": "pOy2ZP5j60Ur",
        "colab_type": "text"
      },
      "source": [
        " Those who did not click on the advertisment used more internet compared to those who clicked."
      ]
    },
    {
      "cell_type": "code",
      "metadata": {
        "id": "LaHUXIVt0V9o",
        "colab_type": "code",
        "colab": {
          "base_uri": "https://localhost:8080/",
          "height": 497
        },
        "outputId": "1c6bc361-43b6-4ba7-a731-84f8b0f95c1a"
      },
      "source": [
        "# clicked on ad vs daily time spent on site\n",
        "%%R\n",
        "ggplot(advert, aes(x=Clicked.on.Ad, y=Daily.Time.Spent.on.Site)) + \n",
        "  geom_bar(fill = 'Green', stat = \"identity\")"
      ],
      "execution_count": null,
      "outputs": [
        {
          "output_type": "display_data",
          "data": {
            "image/png": "[encoded data removed]"
          },
          "metadata": {
            "tags": []
          }
        }
      ]
    },
    {
      "cell_type": "markdown",
      "metadata": {
        "id": "Vwy6pHGD65Iz",
        "colab_type": "text"
      },
      "source": [
        "  Those who did not click on the Ad spent a lot of time on the site compared to those who clicked."
      ]
    },
    {
      "cell_type": "code",
      "metadata": {
        "id": "7oSsD3m60WI3",
        "colab_type": "code",
        "colab": {
          "base_uri": "https://localhost:8080/",
          "height": 497
        },
        "outputId": "b0a1264a-acf6-4791-94ee-27a2e256c3bc"
      },
      "source": [
        "### clicked on ad vs Age\n",
        "%%R\n",
        "ggplot(advert, aes(x=Clicked.on.Ad, y=Age)) + \n",
        "  geom_bar(fill = 'Grey', stat = \"identity\")"
      ],
      "execution_count": null,
      "outputs": [
        {
          "output_type": "display_data",
          "data": {
            "image/png": "[encoded data removed]"
          },
          "metadata": {
            "tags": []
          }
        }
      ]
    },
    {
      "cell_type": "markdown",
      "metadata": {
        "id": "ATAKH6OY69lU",
        "colab_type": "text"
      },
      "source": [
        "The older people are more likely to click on the Ads"
      ]
    },
    {
      "cell_type": "code",
      "metadata": {
        "id": "usPwUClS0WEM",
        "colab_type": "code",
        "colab": {
          "base_uri": "https://localhost:8080/",
          "height": 497
        },
        "outputId": "a849fbb0-9323-43c7-f2df-9cd078d61551"
      },
      "source": [
        "### clicked on ad vs Area.Income \n",
        "%%R\n",
        "ggplot(advert, aes(x=Clicked.on.Ad, y=Area.Income)) + \n",
        "  geom_bar(fill = 'Blue',stat = \"identity\")"
      ],
      "execution_count": null,
      "outputs": [
        {
          "output_type": "display_data",
          "data": {
            "image/png": "[encoded data removed]"
          },
          "metadata": {
            "tags": []
          }
        }
      ]
    },
    {
      "cell_type": "markdown",
      "metadata": {
        "id": "I29pJhAz7CQc",
        "colab_type": "text"
      },
      "source": [
        "Those who did not click on the Ads had more income compared to those who clicked the Ads"
      ]
    },
    {
      "cell_type": "markdown",
      "metadata": {
        "id": "eHu9Dfms7HSY",
        "colab_type": "text"
      },
      "source": [
        "### COVARIANCE\n",
        "\n",
        "Covariance measures how two variables are linearly related."
      ]
    },
    {
      "cell_type": "code",
      "metadata": {
        "id": "tGB6vgPW0WCp",
        "colab_type": "code",
        "colab": {
          "base_uri": "https://localhost:8080/",
          "height": 34
        },
        "outputId": "75a2e558-a07e-4054-d5e0-d5cf082e20f5"
      },
      "source": [
        "# covariance of ad click and income\n",
        "%%R\n",
        "Ad_click <- advert$Clicked.on.Ad\n",
        "income <- advert$Area.Income\n",
        "cov(Ad_click, income)"
      ],
      "execution_count": null,
      "outputs": [
        {
          "output_type": "stream",
          "text": [
            "[1] -3195.989\n"
          ],
          "name": "stdout"
        }
      ]
    },
    {
      "cell_type": "markdown",
      "metadata": {
        "id": "N34UsKSCSRAe",
        "colab_type": "text"
      },
      "source": [
        "negative covariance between ad_clickand income"
      ]
    },
    {
      "cell_type": "code",
      "metadata": {
        "id": "Nam1ovwj0V6Q",
        "colab_type": "code",
        "colab": {
          "base_uri": "https://localhost:8080/",
          "height": 34
        },
        "outputId": "12956fe8-01b3-47bf-8ff8-487135f33a1f"
      },
      "source": [
        "# covariance of net usage and income\n",
        "\n",
        "%%R\n",
        "Ad_click <- advert$Clicked.on.Ad\n",
        "net <- advert$Daily.Internet.Usage\n",
        "cov(Ad_click, net)"
      ],
      "execution_count": null,
      "outputs": [
        {
          "output_type": "stream",
          "text": [
            "[1] -17.27409\n"
          ],
          "name": "stdout"
        }
      ]
    },
    {
      "cell_type": "markdown",
      "metadata": {
        "id": "fJdktstnSXxf",
        "colab_type": "text"
      },
      "source": [
        "negative covariance between net usage and income"
      ]
    },
    {
      "cell_type": "markdown",
      "metadata": {
        "id": "jRxg2Fi07M3j",
        "colab_type": "text"
      },
      "source": [
        "### SCATTER PLOTS"
      ]
    },
    {
      "cell_type": "code",
      "metadata": {
        "id": "p-NhuKFy0V5B",
        "colab_type": "code",
        "colab": {
          "base_uri": "https://localhost:8080/",
          "height": 497
        },
        "outputId": "c93ec93e-6943-49f1-ed61-5d2b37876449"
      },
      "source": [
        "#age vs net usage\n",
        "%%R\n",
        "plot(x = advert$Daily.Internet.Usage,y = advert$Age,\n",
        "     xlab='Daily internet usage',\n",
        "     ylab = 'Age')"
      ],
      "execution_count": null,
      "outputs": [
        {
          "output_type": "display_data",
          "data": {
            "image/png": "[encoded data removed]"
          },
          "metadata": {
            "tags": []
          }
        }
      ]
    },
    {
      "cell_type": "markdown",
      "metadata": {
        "id": "0yESZQ-zRqyg",
        "colab_type": "text"
      },
      "source": [
        "the plot does not show a clear correlation as they are scatterd "
      ]
    },
    {
      "cell_type": "code",
      "metadata": {
        "id": "FAVtP-ES0VzL",
        "colab_type": "code",
        "colab": {
          "base_uri": "https://localhost:8080/",
          "height": 497
        },
        "outputId": "b30ac6b5-80e2-4a1f-9be5-92934dc52146"
      },
      "source": [
        "# net usage vs time spent on site\n",
        "%%R\n",
        "\n",
        "plot(advert$Daily.Time.Spent.on.Site, advert$Daily.Internet.Usage, main = \"net usage vs time spent on site\",\n",
        "     xlab = \"Daily.Time.Spent.on.Site\", ylab = \"Daily.Internet.Usage\",\n",
        "     pch = 19, frame = FALSE)\n",
        "abline(lm(advert$Daily.Internet.Usage ~ advert$Daily.Time.Spent.on.Site, data = advert), col = \"blue\")"
      ],
      "execution_count": null,
      "outputs": [
        {
          "output_type": "display_data",
          "data": {
            "image/png": "[encoded data removed]"
          },
          "metadata": {
            "tags": []
          }
        }
      ]
    },
    {
      "cell_type": "markdown",
      "metadata": {
        "id": "Lwtc-JkMRrjr",
        "colab_type": "text"
      },
      "source": [
        "the plot shows a positive correlation between net usage and time spent on site"
      ]
    },
    {
      "cell_type": "code",
      "metadata": {
        "id": "VTO7aXag0Vtw",
        "colab_type": "code",
        "colab": {
          "base_uri": "https://localhost:8080/",
          "height": 497
        },
        "outputId": "482643f3-28be-428a-a4db-f0be3ecdf3fa"
      },
      "source": [
        "#age vs income\n",
        "%%R\n",
        "plot(advert$Area.Income, advert$Age, main = \"age vs income\",\n",
        "     xlab = \"area income\", ylab = \"age\",\n",
        "     pch = 19, frame = FALSE)\n",
        "abline(lm(advert$Age ~ advert$Area.Income, data = advert), col = \"blue\")"
      ],
      "execution_count": null,
      "outputs": [
        {
          "output_type": "display_data",
          "data": {
            "image/png": "[encoded data removed]"
          },
          "metadata": {
            "tags": []
          }
        }
      ]
    },
    {
      "cell_type": "markdown",
      "metadata": {
        "id": "R9lkd8NkRtKK",
        "colab_type": "text"
      },
      "source": [
        "the plot shows a negative correlation between age and income"
      ]
    },
    {
      "cell_type": "markdown",
      "metadata": {
        "id": "8gVe055L8JqQ",
        "colab_type": "text"
      },
      "source": [
        "# **MODELLING**"
      ]
    },
    {
      "cell_type": "markdown",
      "metadata": {
        "id": "TyC-qvloLg-Z",
        "colab_type": "text"
      },
      "source": [
        "## MULTILINEAR REGRESSION"
      ]
    },
    {
      "cell_type": "code",
      "metadata": {
        "id": "HIU2gJ9ugfXV",
        "colab_type": "code",
        "colab": {
          "base_uri": "https://localhost:8080/",
          "height": 425
        },
        "outputId": "5069e245-c27d-4097-89f3-575ca737239c"
      },
      "source": [
        "# stat summary\n",
        "%%R\n",
        "summary(advert)"
      ],
      "execution_count": null,
      "outputs": [
        {
          "output_type": "stream",
          "text": [
            " Daily.Time.Spent.on.Site      Age         Area.Income    Daily.Internet.Usage\n",
            " Min.   :32.60            Min.   :19.00   Min.   :13996   Min.   :104.8       \n",
            " 1st Qu.:51.36            1st Qu.:29.00   1st Qu.:47032   1st Qu.:138.8       \n",
            " Median :68.22            Median :35.00   Median :57012   Median :183.1       \n",
            " Mean   :65.00            Mean   :36.01   Mean   :55000   Mean   :180.0       \n",
            " 3rd Qu.:78.55            3rd Qu.:42.00   3rd Qu.:65471   3rd Qu.:218.8       \n",
            " Max.   :91.43            Max.   :61.00   Max.   :79485   Max.   :270.0       \n",
            "                                                                              \n",
            "                                 Ad.Topic.Line              City    \n",
            " Adaptive 24hour Graphic Interface      :  1   Lisamouth      :  3  \n",
            " Adaptive asynchronous attitude         :  1   Williamsport   :  3  \n",
            " Adaptive context-sensitive application :  1   Benjaminchester:  2  \n",
            " Adaptive contextually-based methodology:  1   East John      :  2  \n",
            " Adaptive demand-driven knowledgebase   :  1   East Timothy   :  2  \n",
            " Adaptive uniform capability            :  1   Johnstad       :  2  \n",
            " (Other)                                :994   (Other)        :986  \n",
            "      Male                 Country                  Timestamp   Clicked.on.Ad\n",
            " Min.   :0.000   Czech Republic:  9   2016-01-01 02:52:10:  1   Min.   :0.0  \n",
            " 1st Qu.:0.000   France        :  9   2016-01-01 03:35:35:  1   1st Qu.:0.0  \n",
            " Median :0.000   Afghanistan   :  8   2016-01-01 05:31:22:  1   Median :0.5  \n",
            " Mean   :0.481   Australia     :  8   2016-01-01 08:27:06:  1   Mean   :0.5  \n",
            " 3rd Qu.:1.000   Cyprus        :  8   2016-01-01 15:14:24:  1   3rd Qu.:1.0  \n",
            " Max.   :1.000   Greece        :  8   2016-01-01 20:17:49:  1   Max.   :1.0  \n",
            "                 (Other)       :950   (Other)            :994                \n"
          ],
          "name": "stdout"
        }
      ]
    },
    {
      "cell_type": "code",
      "metadata": {
        "id": "4JqjqGFImqEN",
        "colab_type": "code",
        "colab": {}
      },
      "source": [
        "# encoding categorical columns\n",
        "%%R\n",
        "advert$Ad.Topic.Line <- as.integer(as.factor(advert$Ad.Topic.Line))\n",
        "advert$City <- as.integer(as.factor(advert$City))\n",
        "advert$Country <- as.integer(as.factor(advert$Country))"
      ],
      "execution_count": null,
      "outputs": []
    },
    {
      "cell_type": "code",
      "metadata": {
        "id": "BKk4KaJKp0lU",
        "colab_type": "code",
        "colab": {
          "base_uri": "https://localhost:8080/",
          "height": 255
        },
        "outputId": "1946215f-02e7-4a27-adb1-95720299584f"
      },
      "source": [
        "%%R\n",
        "#Review the dataset\n",
        "head(advert)"
      ],
      "execution_count": null,
      "outputs": [
        {
          "output_type": "stream",
          "text": [
            "  Daily.Time.Spent.on.Site Age Area.Income Daily.Internet.Usage Ad.Topic.Line\n",
            "1                    68.95  35    61833.90               256.09            92\n",
            "2                    80.23  31    68441.85               193.77           465\n",
            "3                    69.47  26    59785.94               236.50           567\n",
            "4                    74.15  29    54806.18               245.89           904\n",
            "5                    68.37  35    73889.99               225.58           767\n",
            "6                    59.99  23    59761.56               226.74           806\n",
            "  City Male Country           Timestamp Clicked.on.Ad\n",
            "1  962    0     216 2016-03-27 00:53:11             0\n",
            "2  904    1     148 2016-04-04 01:39:02             0\n",
            "3  112    0     185 2016-03-13 20:35:42             0\n",
            "4  940    1     104 2016-01-10 02:31:19             0\n",
            "5  806    0      97 2016-06-03 03:36:18             0\n",
            "6  283    1     159 2016-05-19 14:30:17             0\n"
          ],
          "name": "stdout"
        }
      ]
    },
    {
      "cell_type": "code",
      "metadata": {
        "id": "7l8YH37e8I97",
        "colab_type": "code",
        "colab": {
          "base_uri": "https://localhost:8080/",
          "height": 34
        },
        "outputId": "8389f587-bed6-4b1d-e2dd-12c432413a6b"
      },
      "source": [
        "# select columns to use\n",
        "%%R\n",
        "advert_df1 <- subset(advert, select = c(Daily.Time.Spent.on.Site, Area.Income, Male, Age, Daily.Internet.Usage, \n",
        "                                        Ad.Topic.Line, City, Country, Clicked.on.Ad))\n",
        "dim(advert_df1)"
      ],
      "execution_count": null,
      "outputs": [
        {
          "output_type": "stream",
          "text": [
            "[1] 1000    9\n"
          ],
          "name": "stdout"
        }
      ]
    },
    {
      "cell_type": "code",
      "metadata": {
        "id": "Ob8rRa6HqyI3",
        "colab_type": "code",
        "colab": {}
      },
      "source": [
        "# normalize the data\n",
        "%%R\n",
        "normalize <- function(x) {\n",
        "    return((x - min(x)) / (max(x) - min(x)))\n",
        "}\n",
        "\n",
        "advert_n <- as.data.frame(lapply(advert_df1[1:9], normalize))"
      ],
      "execution_count": null,
      "outputs": []
    },
    {
      "cell_type": "code",
      "metadata": {
        "id": "O7iMAh3Dto1r",
        "colab_type": "code",
        "colab": {
          "base_uri": "https://localhost:8080/",
          "height": 374
        },
        "outputId": "5d64b1b9-94cb-4a5e-fae8-c611e663eb3b"
      },
      "source": [
        "#noramlized data\n",
        "%%R\n",
        "summary(advert_n)"
      ],
      "execution_count": null,
      "outputs": [
        {
          "output_type": "stream",
          "text": [
            " Daily.Time.Spent.on.Site  Area.Income          Male            Age        \n",
            " Min.   :0.0000           Min.   :0.0000   Min.   :0.000   Min.   :0.0000  \n",
            " 1st Qu.:0.3189           1st Qu.:0.5044   1st Qu.:0.000   1st Qu.:0.2381  \n",
            " Median :0.6054           Median :0.6568   Median :0.000   Median :0.3810  \n",
            " Mean   :0.5507           Mean   :0.6261   Mean   :0.481   Mean   :0.4050  \n",
            " 3rd Qu.:0.7810           3rd Qu.:0.7860   3rd Qu.:1.000   3rd Qu.:0.5476  \n",
            " Max.   :1.0000           Max.   :1.0000   Max.   :1.000   Max.   :1.0000  \n",
            " Daily.Internet.Usage Ad.Topic.Line       City           Country      \n",
            " Min.   :0.0000       Min.   :0.00   Min.   :0.0000   Min.   :0.0000  \n",
            " 1st Qu.:0.2061       1st Qu.:0.25   1st Qu.:0.2549   1st Qu.:0.2288  \n",
            " Median :0.4743       Median :0.50   Median :0.5005   Median :0.4809  \n",
            " Mean   :0.4554       Mean   :0.50   Mean   :0.5024   Mean   :0.4890  \n",
            " 3rd Qu.:0.6902       3rd Qu.:0.75   3rd Qu.:0.7513   3rd Qu.:0.7500  \n",
            " Max.   :1.0000       Max.   :1.00   Max.   :1.0000   Max.   :1.0000  \n",
            " Clicked.on.Ad\n",
            " Min.   :0.0  \n",
            " 1st Qu.:0.0  \n",
            " Median :0.5  \n",
            " Mean   :0.5  \n",
            " 3rd Qu.:1.0  \n",
            " Max.   :1.0  \n"
          ],
          "name": "stdout"
        }
      ]
    },
    {
      "cell_type": "code",
      "metadata": {
        "id": "KRLZ9-WXOpGY",
        "colab_type": "code",
        "colab": {}
      },
      "source": [
        "#apply regression using lm\n",
        "%%R\n",
        "\n",
        "model <- lm(Clicked.on.Ad~., data = advert_n)"
      ],
      "execution_count": null,
      "outputs": []
    },
    {
      "cell_type": "code",
      "metadata": {
        "id": "IHFI1WM78JHZ",
        "colab_type": "code",
        "colab": {
          "base_uri": "https://localhost:8080/",
          "height": 459
        },
        "outputId": "8b669949-00ed-4fb3-ff8a-55c6694ae5b1"
      },
      "source": [
        "%%R\n",
        "summary(model)"
      ],
      "execution_count": null,
      "outputs": [
        {
          "output_type": "stream",
          "text": [
            "\n",
            "Call:\n",
            "lm(formula = Clicked.on.Ad ~ ., data = advert_n)\n",
            "\n",
            "Residuals:\n",
            "     Min       1Q   Median       3Q      Max \n",
            "-0.66642 -0.11662 -0.03199  0.04966  1.03480 \n",
            "\n",
            "Coefficients:\n",
            "                         Estimate Std. Error t value Pr(>|t|)    \n",
            "(Intercept)               1.41579    0.03762  37.635   <2e-16 ***\n",
            "Daily.Time.Spent.on.Site -0.75142    0.02977 -25.241   <2e-16 ***\n",
            "Area.Income              -0.40531    0.03511 -11.544   <2e-16 ***\n",
            "Male                     -0.02857    0.01334  -2.142   0.0324 *  \n",
            "Age                       0.37733    0.03480  10.842   <2e-16 ***\n",
            "Daily.Internet.Usage     -0.86971    0.03085 -28.194   <2e-16 ***\n",
            "Ad.Topic.Line             0.01846    0.02308   0.800   0.4241    \n",
            "City                     -0.02494    0.02308  -1.081   0.2801    \n",
            "Country                   0.02476    0.02251   1.100   0.2718    \n",
            "---\n",
            "Signif. codes:  0 ‘***’ 0.001 ‘**’ 0.01 ‘*’ 0.05 ‘.’ 0.1 ‘ ’ 1\n",
            "\n",
            "Residual standard error: 0.2103 on 991 degrees of freedom\n",
            "Multiple R-squared:  0.8246,\tAdjusted R-squared:  0.8232 \n",
            "F-statistic: 582.5 on 8 and 991 DF,  p-value: < 2.2e-16\n",
            "\n"
          ],
          "name": "stdout"
        }
      ]
    },
    {
      "cell_type": "markdown",
      "metadata": {
        "id": "ZIJsoYA6vhy7",
        "colab_type": "text"
      },
      "source": [
        "The summary indicates the formula which is used to fit the data.\n",
        "\n",
        "Residuals. The residuals simply show the difference between the target variable (cliked on Ad) and the other variables.\n",
        "The residuals sectiom breaks it down into 5 summary points.\n",
        "\n",
        "Coefficients. The clicked on Ad coefficient estimate is at 1. This means, on average, the people who visit the site are likely to click on an Ad.\n",
        "\n",
        "t-value. is the measure of how many std our coefficient estimate is far away from 0. In our case most variable are far away from 0 meaning a relationship exists. Country, city, topic line and male are closer to 0 indicating they are slightly corre;ated to the target.\n",
        "\n",
        "Coefficient - Pr(>t). A p-values less than 5% is a good cutoff. The p-value(s) in the model are less than 0.05 .\n",
        "\n",
        "The model has quite performed well with an R^2 of 0.823"
      ]
    },
    {
      "cell_type": "markdown",
      "metadata": {
        "id": "NsNu8sTKRxC3",
        "colab_type": "text"
      },
      "source": [
        "## **KNN**"
      ]
    },
    {
      "cell_type": "code",
      "metadata": {
        "id": "t407tueXjFJ1",
        "colab_type": "code",
        "colab": {
          "base_uri": "https://localhost:8080/",
          "height": 102
        },
        "outputId": "4b7c2857-17c1-4d00-b61a-5cf9c6712072"
      },
      "source": [
        "# column names\n",
        "\n",
        "%%R\n",
        "colnames(advert)"
      ],
      "execution_count": null,
      "outputs": [
        {
          "output_type": "stream",
          "text": [
            " [1] \"Daily.Time.Spent.on.Site\" \"Age\"                     \n",
            " [3] \"Area.Income\"              \"Daily.Internet.Usage\"    \n",
            " [5] \"Ad.Topic.Line\"            \"City\"                    \n",
            " [7] \"Male\"                     \"Country\"                 \n",
            " [9] \"Timestamp\"                \"Clicked.on.Ad\"           \n"
          ],
          "name": "stdout"
        }
      ]
    },
    {
      "cell_type": "code",
      "metadata": {
        "id": "d0zMI8wUjFSm",
        "colab_type": "code",
        "colab": {
          "base_uri": "https://localhost:8080/",
          "height": 255
        },
        "outputId": "6d9d6cf8-09e8-42c8-ef8e-9d90c653604c"
      },
      "source": [
        "# select the numeric columns only\n",
        "\n",
        "%%R\n",
        "advert_df <- subset(advert, select = c(Daily.Time.Spent.on.Site, Area.Income, Male, Age, Daily.Internet.Usage, Clicked.on.Ad))\n",
        "head(advert_df)"
      ],
      "execution_count": null,
      "outputs": [
        {
          "output_type": "stream",
          "text": [
            "  Daily.Time.Spent.on.Site Area.Income Male Age Daily.Internet.Usage\n",
            "1                    68.95    61833.90    0  35               256.09\n",
            "2                    80.23    68441.85    1  31               193.77\n",
            "3                    69.47    59785.94    0  26               236.50\n",
            "4                    74.15    54806.18    1  29               245.89\n",
            "5                    68.37    73889.99    0  35               225.58\n",
            "6                    59.99    59761.56    1  23               226.74\n",
            "  Clicked.on.Ad\n",
            "1             0\n",
            "2             0\n",
            "3             0\n",
            "4             0\n",
            "5             0\n",
            "6             0\n"
          ],
          "name": "stdout"
        }
      ]
    },
    {
      "cell_type": "code",
      "metadata": {
        "id": "VNgEzSy6jFeR",
        "colab_type": "code",
        "colab": {}
      },
      "source": [
        "# normalize the numeric data\n",
        "%%R\n",
        "normalize <- function(x) {\n",
        "    return((x - min(x)) / (max(x) - min(x)))\n",
        "}\n",
        "\n",
        "advertNorm <- as.data.frame(lapply(advert_df[1:5], normalize))"
      ],
      "execution_count": null,
      "outputs": []
    },
    {
      "cell_type": "code",
      "metadata": {
        "id": "x-Gc7SFRjFYf",
        "colab_type": "code",
        "colab": {
          "base_uri": "https://localhost:8080/",
          "height": 255
        },
        "outputId": "2e80b74a-3329-48e9-f65d-4739d1c99c41"
      },
      "source": [
        "# select the numeric columns only\n",
        "\n",
        "%%R\n",
        "advert_df <- subset(advert, select = c(Daily.Time.Spent.on.Site, Area.Income, Male, Age, Daily.Internet.Usage, Clicked.on.Ad))\n",
        "head(advert_df)"
      ],
      "execution_count": null,
      "outputs": [
        {
          "output_type": "stream",
          "text": [
            "  Daily.Time.Spent.on.Site Area.Income Male Age Daily.Internet.Usage\n",
            "1                    68.95    61833.90    0  35               256.09\n",
            "2                    80.23    68441.85    1  31               193.77\n",
            "3                    69.47    59785.94    0  26               236.50\n",
            "4                    74.15    54806.18    1  29               245.89\n",
            "5                    68.37    73889.99    0  35               225.58\n",
            "6                    59.99    59761.56    1  23               226.74\n",
            "  Clicked.on.Ad\n",
            "1             0\n",
            "2             0\n",
            "3             0\n",
            "4             0\n",
            "5             0\n",
            "6             0\n"
          ],
          "name": "stdout"
        }
      ]
    },
    {
      "cell_type": "code",
      "metadata": {
        "id": "euvxQsmWjFXX",
        "colab_type": "code",
        "colab": {
          "base_uri": "https://localhost:8080/",
          "height": 68
        },
        "outputId": "07c443c2-7746-4b2b-d70e-07d441a33514"
      },
      "source": [
        "%%R\n",
        "\n",
        "# count of our target var(clicked on add)\n",
        "table(advert_df$Clicked.on.Ad)"
      ],
      "execution_count": null,
      "outputs": [
        {
          "output_type": "stream",
          "text": [
            "\n",
            "  0   1 \n",
            "500 500 \n"
          ],
          "name": "stdout"
        }
      ]
    },
    {
      "cell_type": "code",
      "metadata": {
        "id": "R72GXR9IjFO1",
        "colab_type": "code",
        "colab": {
          "base_uri": "https://localhost:8080/",
          "height": 255
        },
        "outputId": "98661811-3067-4119-947c-7ddeab9e5c9d"
      },
      "source": [
        "%%R\n",
        "summary(advertNorm)"
      ],
      "execution_count": null,
      "outputs": [
        {
          "output_type": "stream",
          "text": [
            " Daily.Time.Spent.on.Site  Area.Income          Male            Age        \n",
            " Min.   :0.0000           Min.   :0.0000   Min.   :0.000   Min.   :0.0000  \n",
            " 1st Qu.:0.3189           1st Qu.:0.5044   1st Qu.:0.000   1st Qu.:0.2381  \n",
            " Median :0.6054           Median :0.6568   Median :0.000   Median :0.3810  \n",
            " Mean   :0.5507           Mean   :0.6261   Mean   :0.481   Mean   :0.4050  \n",
            " 3rd Qu.:0.7810           3rd Qu.:0.7860   3rd Qu.:1.000   3rd Qu.:0.5476  \n",
            " Max.   :1.0000           Max.   :1.0000   Max.   :1.000   Max.   :1.0000  \n",
            " Daily.Internet.Usage\n",
            " Min.   :0.0000      \n",
            " 1st Qu.:0.2061      \n",
            " Median :0.4743      \n",
            " Mean   :0.4554      \n",
            " 3rd Qu.:0.6902      \n",
            " Max.   :1.0000      \n"
          ],
          "name": "stdout"
        }
      ]
    },
    {
      "cell_type": "markdown",
      "metadata": {
        "id": "IwDN6wVNVmvN",
        "colab_type": "text"
      },
      "source": [
        "Creating train and test set\n",
        "\n",
        "divide the data in the ratio of 80:20 for train and test data respectively"
      ]
    },
    {
      "cell_type": "code",
      "metadata": {
        "id": "-wOlkSDrRwLS",
        "colab_type": "code",
        "colab": {
          "base_uri": "https://localhost:8080/",
          "height": 51
        },
        "outputId": "e7ea3fac-40d7-4233-8be5-435a55c7f2c0"
      },
      "source": [
        "%%R\n",
        "# advert train is 80% and the advert test is 20%. The train and test does not contain the label\n",
        "advert_train <- advertNorm[1:800,]\n",
        "advert_test <- advertNorm[801:1000,]\n",
        "\n",
        "print(dim(advert_train))\n",
        "print(dim(advert_test))"
      ],
      "execution_count": null,
      "outputs": [
        {
          "output_type": "stream",
          "text": [
            "[1] 800   5\n",
            "[1] 200   5\n"
          ],
          "name": "stdout"
        }
      ]
    },
    {
      "cell_type": "code",
      "metadata": {
        "id": "ZovsD2h_RwC5",
        "colab_type": "code",
        "colab": {}
      },
      "source": [
        "%%R\n",
        "# including the target variable\n",
        "\n",
        "advert_train_label <- advert_df[1:800, 6]\n",
        "advert_test_label <- advert_df[801:1000, 6]"
      ],
      "execution_count": null,
      "outputs": []
    },
    {
      "cell_type": "markdown",
      "metadata": {
        "id": "8_1oryjVYEOk",
        "colab_type": "text"
      },
      "source": [
        "Training a model on data"
      ]
    },
    {
      "cell_type": "code",
      "metadata": {
        "id": "wGem4jAeRv9K",
        "colab_type": "code",
        "colab": {}
      },
      "source": [
        "%%R\n",
        "# loading the library class to use the knn() function\n",
        "library(class)"
      ],
      "execution_count": null,
      "outputs": []
    },
    {
      "cell_type": "markdown",
      "metadata": {
        "id": "91GKMIS_YZFO",
        "colab_type": "text"
      },
      "source": [
        "use the knn() function to classify test data"
      ]
    },
    {
      "cell_type": "code",
      "metadata": {
        "id": "03oKtyagRv7c",
        "colab_type": "code",
        "colab": {
          "base_uri": "https://localhost:8080/",
          "height": 136
        },
        "outputId": "9847fde8-79b4-46ad-821c-258609e3b174"
      },
      "source": [
        "%%R\n",
        "\n",
        "advert_test_pred <- knn(train = advert_train, test = advert_test, cl = advert_train_label, k = 10)\n",
        "advert_test_pred"
      ],
      "execution_count": null,
      "outputs": [
        {
          "output_type": "stream",
          "text": [
            "  [1] 1 1 1 1 1 0 1 1 1 1 1 0 0 0 0 0 1 1 0 0 1 0 0 0 0 0 0 1 1 1 1 1 1 1 0 0 1\n",
            " [38] 1 1 1 1 1 0 0 0 1 1 0 0 1 0 1 1 0 0 1 0 0 1 0 0 0 0 0 0 1 0 0 0 0 1 0 0 0\n",
            " [75] 0 1 1 0 0 0 1 0 0 1 0 1 1 1 0 1 0 0 1 0 0 0 0 1 1 1 1 1 1 0 0 0 1 0 1 0 1\n",
            "[112] 1 1 0 1 1 1 0 0 0 0 1 1 1 1 1 0 0 0 1 0 1 1 1 0 0 1 1 1 0 1 1 1 1 1 0 0 1\n",
            "[149] 0 0 1 1 1 1 0 1 1 0 0 0 1 0 0 0 0 1 1 0 1 1 1 1 1 0 1 1 1 1 0 0 1 0 1 0 0\n",
            "[186] 1 0 1 0 0 1 1 1 0 1 0 1 1 1 1\n",
            "Levels: 0 1\n"
          ],
          "name": "stdout"
        }
      ]
    },
    {
      "cell_type": "markdown",
      "metadata": {
        "id": "PecrlSS-Zp94",
        "colab_type": "text"
      },
      "source": [
        "Evaluate model performance\n",
        "by using the CrossTable() function"
      ]
    },
    {
      "cell_type": "code",
      "metadata": {
        "id": "UWvhD1cxYefA",
        "colab_type": "code",
        "colab": {}
      },
      "source": [
        "%%R\n",
        "install.packages('gmodels')\n",
        "library(gmodels)"
      ],
      "execution_count": null,
      "outputs": []
    },
    {
      "cell_type": "code",
      "metadata": {
        "id": "1vZbQdtbYe8_",
        "colab_type": "code",
        "colab": {
          "base_uri": "https://localhost:8080/",
          "height": 561
        },
        "outputId": "aaa82781-4367-4281-dbf2-0c9e4b9d2ac8"
      },
      "source": [
        "%%R\n",
        "CrossTable(x = advert_test_label, y = advert_test_pred, prop.chisq=FALSE)"
      ],
      "execution_count": null,
      "outputs": [
        {
          "output_type": "stream",
          "text": [
            "\n",
            " \n",
            "   Cell Contents\n",
            "|-------------------------|\n",
            "|                       N |\n",
            "|           N / Row Total |\n",
            "|           N / Col Total |\n",
            "|         N / Table Total |\n",
            "|-------------------------|\n",
            "\n",
            " \n",
            "Total Observations in Table:  200 \n",
            "\n",
            " \n",
            "                  | advert_test_pred \n",
            "advert_test_label |         0 |         1 | Row Total | \n",
            "------------------|-----------|-----------|-----------|\n",
            "                0 |        87 |         1 |        88 | \n",
            "                  |     0.989 |     0.011 |     0.440 | \n",
            "                  |     0.926 |     0.009 |           | \n",
            "                  |     0.435 |     0.005 |           | \n",
            "------------------|-----------|-----------|-----------|\n",
            "                1 |         7 |       105 |       112 | \n",
            "                  |     0.062 |     0.938 |     0.560 | \n",
            "                  |     0.074 |     0.991 |           | \n",
            "                  |     0.035 |     0.525 |           | \n",
            "------------------|-----------|-----------|-----------|\n",
            "     Column Total |        94 |       106 |       200 | \n",
            "                  |     0.470 |     0.530 |           | \n",
            "------------------|-----------|-----------|-----------|\n",
            "\n",
            " \n"
          ],
          "name": "stdout"
        }
      ]
    },
    {
      "cell_type": "markdown",
      "metadata": {
        "id": "6ZE7hTAwdwU-",
        "colab_type": "text"
      },
      "source": [
        "The confusion matrix shows whether a person clicked on the Ad or did not.\n",
        "The test data consisted of 200 observations. Out of 94 of those who did not click on the Ads, 87 have been accurately predicted with a 43.5%, 7 have been wrongly predicted.\n",
        "\n",
        "Out of 106 who clicked on the Ads, 105 have correctly been predicted with  percentage of 52.5%.\n",
        "\n",
        "The total of those who did not click on the Ads were 94 and those who clicked on the Ad were 106.\n",
        "\n",
        "More people clicked on the Ad compared to those who did not.\n"
      ]
    },
    {
      "cell_type": "markdown",
      "metadata": {
        "id": "P3iJxFec7QkA",
        "colab_type": "text"
      },
      "source": [
        "# CONCLUSION\n",
        "\n",
        "From the analysis, females are more likely to click the Ads, people living in Afghanistan, those who spent less time on the site are ,ore likely to click on the advertisment.\n",
        "\n",
        "# RECOMMENDATIONS\n",
        "\n",
        "The entrepreneur should consider target more females as the are more likely to click on the Ads. She should also target older people, people living in Afghanistan, people with low income and those who internet usage is low."
      ]
    }
  ]
}